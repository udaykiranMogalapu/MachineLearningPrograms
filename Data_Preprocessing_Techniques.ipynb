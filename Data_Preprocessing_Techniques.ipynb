{
  "nbformat": 4,
  "nbformat_minor": 0,
  "metadata": {
    "colab": {
      "provenance": [],
      "authorship_tag": "ABX9TyPvB+QEUyzvbefEYRupg8Vl",
      "include_colab_link": true
    },
    "kernelspec": {
      "name": "python3",
      "display_name": "Python 3"
    },
    "language_info": {
      "name": "python"
    }
  },
  "cells": [
    {
      "cell_type": "markdown",
      "metadata": {
        "id": "view-in-github",
        "colab_type": "text"
      },
      "source": [
        "<a href=\"https://colab.research.google.com/github/Lohitharepalle/Machine-Learning/blob/main/Data_Preprocessing_Techniques.ipynb\" target=\"_parent\"><img src=\"https://colab.research.google.com/assets/colab-badge.svg\" alt=\"Open In Colab\"/></a>"
      ]
    },
    {
      "cell_type": "code",
      "execution_count": null,
      "metadata": {
        "colab": {
          "base_uri": "https://localhost:8080/"
        },
        "id": "M_GiFIj_uyp6",
        "outputId": "f1bd8519-0be8-4a9c-c8d0-5779738514f1"
      },
      "outputs": [
        {
          "output_type": "stream",
          "name": "stdout",
          "text": [
            "[[0.    0.222 0.625 0.068 0.042]\n",
            " [0.007 0.167 0.417 0.068 0.042]\n",
            " [0.013 0.111 0.5   0.051 0.042]\n",
            " [0.02  0.083 0.458 0.085 0.042]\n",
            " [0.027 0.194 0.667 0.068 0.042]]\n"
          ]
        }
      ],
      "source": [
        "import pandas as pd\n",
        "import numpy as np\n",
        "from numpy import set_printoptions\n",
        "from sklearn.preprocessing import MinMaxScaler\n",
        "from matplotlib import pyplot\n",
        "df = pd.read_csv('/content/Iris.csv')\n",
        "array = df.values\n",
        "X = array[:,0:5]\n",
        "Y = array[:,5]\n",
        "scaler = MinMaxScaler(feature_range=(0,1))\n",
        "rescaledX = scaler.fit_transform(X)\n",
        "set_printoptions(precision=3)\n",
        "print(rescaledX[0:5,:])"
      ]
    },
    {
      "cell_type": "code",
      "source": [
        "from sklearn.preprocessing import StandardScaler \n",
        "X = array[:,0:5]\n",
        "Y = array[:,5]\n",
        "scaler = StandardScaler().fit(X)\n",
        "rescaledX = scaler.transform(X)\n",
        "set_printoptions(precision=3)\n",
        "print(rescaledX[0:5,:])"
      ],
      "metadata": {
        "colab": {
          "base_uri": "https://localhost:8080/"
        },
        "id": "SOlO0kvBwvFo",
        "outputId": "fdc54f21-e8d8-44ae-a468-7843a2921d1c"
      },
      "execution_count": null,
      "outputs": [
        {
          "output_type": "stream",
          "name": "stdout",
          "text": [
            "[[-1.721 -0.901  1.032 -1.341 -1.313]\n",
            " [-1.697 -1.143 -0.125 -1.341 -1.313]\n",
            " [-1.674 -1.385  0.338 -1.398 -1.313]\n",
            " [-1.651 -1.507  0.106 -1.284 -1.313]\n",
            " [-1.628 -1.022  1.263 -1.341 -1.313]]\n"
          ]
        }
      ]
    },
    {
      "cell_type": "code",
      "source": [
        "from sklearn.preprocessing import Normalizer\n",
        "scaler = Normalizer().fit(X)\n",
        "normalizedX = scaler.transform(X)\n",
        "set_printoptions(precision=3)\n",
        "print(normalizedX[0:5,:])"
      ],
      "metadata": {
        "colab": {
          "base_uri": "https://localhost:8080/"
        },
        "id": "ZuiGD929wytp",
        "outputId": "2e807118-4b7b-40b3-dd67-2ecb3d1fe552"
      },
      "execution_count": null,
      "outputs": [
        {
          "output_type": "stream",
          "name": "stdout",
          "text": [
            "[[0.156 0.794 0.545 0.218 0.031]\n",
            " [0.32  0.785 0.48  0.224 0.032]\n",
            " [0.457 0.716 0.488 0.198 0.03 ]\n",
            " [0.571 0.657 0.443 0.214 0.029]\n",
            " [0.62  0.62  0.447 0.174 0.025]]\n"
          ]
        }
      ]
    },
    {
      "cell_type": "code",
      "source": [
        "from sklearn.preprocessing import Binarizer\n",
        "binarizer = Binarizer(threshold=0.0).fit(X)\n",
        "binaryX = binarizer.transform(X)\n",
        "set_printoptions(precision=3)\n",
        "print(binaryX[0:5,:])"
      ],
      "metadata": {
        "colab": {
          "base_uri": "https://localhost:8080/"
        },
        "id": "kckgJUb4w18Z",
        "outputId": "ddba177f-4dbb-4da0-e4a3-2c76fa03f54a"
      },
      "execution_count": null,
      "outputs": [
        {
          "output_type": "stream",
          "name": "stdout",
          "text": [
            "[[1. 1. 1. 1. 0. 1. 1. 1.]\n",
            " [1. 1. 1. 1. 0. 1. 1. 1.]\n",
            " [1. 1. 1. 0. 0. 1. 1. 1.]\n",
            " [1. 1. 1. 1. 1. 1. 1. 1.]\n",
            " [0. 1. 1. 1. 1. 1. 1. 1.]]\n"
          ]
        }
      ]
    },
    {
      "cell_type": "code",
      "source": [
        "import pandas as pd\n",
        "from sklearn import preprocessing\n",
        "my_data = {\n",
        "\"Gender\" : ['F', 'M', 'M', 'F', 'M', 'F', 'M', 'F' ,'F', 'M'],\n",
        "\"Name\" : ['Cindy', 'Carl', 'Johnny', 'Stacey', 'Andy', 'Sara', 'Victor', 'Martha', 'Mindy', 'Max']\n",
        "}\n",
        "blk = pd.DataFrame( my_data )\n",
        "print(\"Geniune Data Frame: \\n\")\n",
        "print( blk )\n",
        "my_label = preprocessing. LabelEncoder()\n",
        "blk['Gender']= my_label.fit_transform(blk[ 'Gender' ])\n",
        "print(blk[ 'Gender' ].unique())\n",
        "print(\"Data Frame after Label Encoding: \\n\")\n",
        "print( blk )"
      ],
      "metadata": {
        "colab": {
          "base_uri": "https://localhost:8080/"
        },
        "id": "tgog72Ofw5Uo",
        "outputId": "486750bc-c803-4d29-e777-1d74ae171bf4"
      },
      "execution_count": null,
      "outputs": [
        {
          "output_type": "stream",
          "name": "stdout",
          "text": [
            "Geniune Data Frame: \n",
            "\n",
            "  Gender    Name\n",
            "0      F   Cindy\n",
            "1      M    Carl\n",
            "2      M  Johnny\n",
            "3      F  Stacey\n",
            "4      M    Andy\n",
            "5      F    Sara\n",
            "6      M  Victor\n",
            "7      F  Martha\n",
            "8      F   Mindy\n",
            "9      M     Max\n",
            "[0 1]\n",
            "Data Frame after Label Encoding: \n",
            "\n",
            "   Gender    Name\n",
            "0       0   Cindy\n",
            "1       1    Carl\n",
            "2       1  Johnny\n",
            "3       0  Stacey\n",
            "4       1    Andy\n",
            "5       0    Sara\n",
            "6       1  Victor\n",
            "7       0  Martha\n",
            "8       0   Mindy\n",
            "9       1     Max\n"
          ]
        }
      ]
    },
    {
      "cell_type": "code",
      "source": [
        "import numpy as np\n",
        "import pandas as pd\n",
        "X=pd.read_csv('/content/diabetes.csv')\n",
        "print(X)"
      ],
      "metadata": {
        "id": "F9U9ScF5w_Hg",
        "outputId": "b19ec774-e7af-44cc-bdaf-bf67af0fb569",
        "colab": {
          "base_uri": "https://localhost:8080/"
        }
      },
      "execution_count": null,
      "outputs": [
        {
          "output_type": "stream",
          "name": "stdout",
          "text": [
            "     Pregnancies  Glucose  BloodPressure  SkinThickness  Insulin   BMI  \\\n",
            "0              6      148             72             35        0  33.6   \n",
            "1              1       85             66             29        0  26.6   \n",
            "2              8      183             64              0        0  23.3   \n",
            "3              1       89             66             23       94  28.1   \n",
            "4              0      137             40             35      168  43.1   \n",
            "..           ...      ...            ...            ...      ...   ...   \n",
            "763           10      101             76             48      180  32.9   \n",
            "764            2      122             70             27        0  36.8   \n",
            "765            5      121             72             23      112  26.2   \n",
            "766            1      126             60              0        0  30.1   \n",
            "767            1       93             70             31        0  30.4   \n",
            "\n",
            "     DiabetesPedigreeFunction  Age  Outcome  \n",
            "0                       0.627   50        1  \n",
            "1                       0.351   31        0  \n",
            "2                       0.672   32        1  \n",
            "3                       0.167   21        0  \n",
            "4                       2.288   33        1  \n",
            "..                        ...  ...      ...  \n",
            "763                     0.171   63        0  \n",
            "764                     0.340   27        0  \n",
            "765                     0.245   30        0  \n",
            "766                     0.349   47        1  \n",
            "767                     0.315   23        0  \n",
            "\n",
            "[768 rows x 9 columns]\n"
          ]
        }
      ]
    }
  ]
}